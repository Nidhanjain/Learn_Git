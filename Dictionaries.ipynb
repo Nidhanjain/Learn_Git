{
 "cells": [
  {
   "cell_type": "markdown",
   "id": "fd5803b4",
   "metadata": {},
   "source": [
    "Dictionaries\n",
    "\n",
    "\n",
    "Introduction to Dictionaries\n",
    "\n",
    "Creating Dictionaries\n",
    "\n",
    "Accessing Dictionary Elements\n",
    "\n",
    "Modifying Dictionary Elements\n",
    "\n",
    "Dictionary Methods\n",
    "\n",
    "Iterating Over Dictionaries\n",
    "\n",
    "Nested Dictionaries\n",
    "\n",
    "Dictionary Comprehensions\n",
    "\n",
    "Practical Examples and Common Errors\n"
   ]
  },
  {
   "cell_type": "markdown",
   "id": "e2b4cc21",
   "metadata": {},
   "source": []
  },
  {
   "cell_type": "markdown",
   "id": "bc1f43f4",
   "metadata": {},
   "source": [
    "Introduction to Dictionaries\n",
    "\n",
    "Dictionaries are unordered collections of items. They store data in key-value pairs. Keys must be unique and immutable (e.g., strings, numbers, or tuples), while values can be of any type."
   ]
  },
  {
   "cell_type": "code",
   "execution_count": 1,
   "id": "4318e4ec",
   "metadata": {},
   "outputs": [
    {
     "name": "stdout",
     "output_type": "stream",
     "text": [
      "<class 'dict'>\n"
     ]
    }
   ],
   "source": [
    "dict={}\n",
    "print(type(dict))"
   ]
  },
  {
   "cell_type": "code",
   "execution_count": 2,
   "id": "3bc83bd8",
   "metadata": {},
   "outputs": [
    {
     "name": "stdout",
     "output_type": "stream",
     "text": [
      "{'name': 'Nidhan', 'age': 23}\n"
     ]
    }
   ],
   "source": [
    "dicts = {\"name\" : \"Nidhan\", \"age\" : 23}\n",
    "print(dicts)"
   ]
  },
  {
   "cell_type": "code",
   "execution_count": 13,
   "id": "b4eddfd8",
   "metadata": {},
   "outputs": [
    {
     "name": "stdout",
     "output_type": "stream",
     "text": [
      "33\n",
      "33\n",
      "None\n",
      "Not available tujha aaila\n",
      "{'name': 'Nidhan', 'age': 33, 'adress': 'Jaipur'}\n",
      "{'name': 'Nidhan', 'age': 33, 'adress': 'Jaipur'}\n",
      "{'name': 'Nidhan', 'adress': 'Jaipur'}\n"
     ]
    }
   ],
   "source": [
    "# to acess elements of a dictionary \n",
    "print(dicts[\"age\"])                      # use square braces while printing \n",
    "\n",
    "# acessing using get() method\n",
    "\n",
    "print(dicts.get(\"age\"))\n",
    "print(dicts.get(\"last name\"))\n",
    "print(dicts.get(\"last name \" , \"Not available tujha aaila\"))\n",
    "\n",
    "dicts[\"age\"] = 33  # updated value\n",
    "print(dicts)\n",
    "dicts[\"adress\"] = \"Jaipur\"\n",
    "print(dicts)\n",
    "\n",
    "\n",
    "del dicts[\"age\"]\n",
    "print(dicts)"
   ]
  },
  {
   "cell_type": "code",
   "execution_count": 17,
   "id": "f76ab435",
   "metadata": {},
   "outputs": [
    {
     "name": "stdout",
     "output_type": "stream",
     "text": [
      "<built-in method keys of dict object at 0x0000022B6F191BC0>\n",
      "<built-in method values of dict object at 0x0000022B6F191BC0>\n",
      "<built-in method items of dict object at 0x0000022B6F191BC0>\n"
     ]
    }
   ],
   "source": [
    "#dictionary methods\n",
    "\n",
    "keys =dicts.keys\n",
    "print(keys)\n",
    "\n",
    "value = dicts.values\n",
    "print(value)\n",
    "\n",
    "item = dicts.items\n",
    "print(item)"
   ]
  },
  {
   "cell_type": "code",
   "execution_count": 19,
   "id": "792e20dd",
   "metadata": {},
   "outputs": [
    {
     "name": "stdout",
     "output_type": "stream",
     "text": [
      "{'name': 'Nidhan', 'adress': 'Jaipur'}\n",
      "{'name': 'Nidhan', 'adress': 'Jaipur'}\n",
      "{'name': 'Nidhan', 'adress': 'Jaipur', 'age': 33}\n",
      "{'name': 'Nidhan', 'adress': 'Jaipur', 'age': 33}\n"
     ]
    }
   ],
   "source": [
    "# Shallow Copy\n",
    "\n",
    "student_copy = dicts\n",
    "print(student_copy)\n",
    "print(dicts)\n",
    "\n",
    "dicts[\"age\"] = 33 \n",
    "print(student_copy)\n",
    "print(dicts)"
   ]
  },
  {
   "cell_type": "code",
   "execution_count": 21,
   "id": "ede4bf9e",
   "metadata": {},
   "outputs": [
    {
     "name": "stdout",
     "output_type": "stream",
     "text": [
      "{'name': 'Nidhan', 'adress': 'Jaipur', 'age': 33}\n",
      "{'name': 'Nidhan', 'adress': 'Jaipur', 'age': 33}\n",
      "{'name': 'Nidhan', 'adress': 'Jaipur', 'age': 19}\n"
     ]
    }
   ],
   "source": [
    "satudent = dicts.copy() # shallow copy as this will create a different copy for the satudent dictionary\n",
    "print(satudent)\n",
    "dicts[\"age\"] = 19\n",
    "print(satudent)\n",
    "print(dicts)"
   ]
  },
  {
   "cell_type": "code",
   "execution_count": 26,
   "id": "b4252d5a",
   "metadata": {},
   "outputs": [
    {
     "name": "stdout",
     "output_type": "stream",
     "text": [
      "name\n",
      "adress\n",
      "age\n",
      "name\n",
      "adress\n",
      "age\n",
      "Nidhan\n",
      "Jaipur\n",
      "19\n",
      "name : Nidhan\n",
      "adress : Jaipur\n",
      "age : 19\n"
     ]
    }
   ],
   "source": [
    "# iterating over dictionaries\n",
    "## You can use loops to iterate over dictionatries, keys,values,or items\n",
    "\n",
    "## Iterating over keys\n",
    "for keys in dicts.keys():\n",
    "    print(keys)\n",
    "\n",
    "for keys in student_copy.keys():\n",
    "    print(keys)\n",
    "\n",
    "for value in dicts.values():\n",
    "    print (value)\n",
    "\n",
    "for key,value in dicts.items():\n",
    "    print(f\"{key} : {value}\")"
   ]
  },
  {
   "cell_type": "code",
   "execution_count": 30,
   "id": "ff4e02ee",
   "metadata": {},
   "outputs": [
    {
     "name": "stdout",
     "output_type": "stream",
     "text": [
      "{'student1': {'name': 'Krish', 'age': 32}, 'student2': {'name': 'Peter', 'age': 35}}\n",
      "Peter\n",
      "35\n",
      "student1:{'name': 'Krish', 'age': 32}\n",
      "name:Krish\n",
      "age:32\n",
      "student2:{'name': 'Peter', 'age': 35}\n",
      "name:Peter\n",
      "age:35\n"
     ]
    }
   ],
   "source": [
    "## Nested Disctionaries\n",
    "students={\n",
    "    \"student1\":{\"name\":\"Krish\",\"age\":32},\n",
    "    \"student2\":{\"name\":\"Peter\",\"age\":35}\n",
    "}\n",
    "print(students)\n",
    "\n",
    "## Access nested dictionaries elementss\n",
    "print(students[\"student2\"][\"name\"])\n",
    "print(students[\"student2\"][\"age\"])\n",
    "\n",
    "students.items()\n",
    "\n",
    "## Iterating over nested dictionaries\n",
    "for student_id,student_info in students.items():\n",
    "    print(f\"{student_id}:{student_info}\")\n",
    "    for key,value in student_info.items():\n",
    "        print(f\"{key}:{value}\")"
   ]
  },
  {
   "cell_type": "code",
   "execution_count": 33,
   "id": "3c8df0fb",
   "metadata": {},
   "outputs": [
    {
     "name": "stdout",
     "output_type": "stream",
     "text": [
      "{0: 0, 1: 1, 2: 4, 3: 9, 4: 16}\n"
     ]
    }
   ],
   "source": [
    "## Dictionary Comphrehension\n",
    "squares={x:x**2 for x in range(5)}\n",
    "print(squares)"
   ]
  },
  {
   "cell_type": "code",
   "execution_count": null,
   "id": "35b684e7",
   "metadata": {},
   "outputs": [],
   "source": [
    "## Condition dictionary comprehension\n",
    "evens={x:x**2 for x in range(10) if x%2==0}\n",
    "print(evens)"
   ]
  },
  {
   "cell_type": "code",
   "execution_count": 34,
   "id": "86c80ddb",
   "metadata": {},
   "outputs": [
    {
     "name": "stdout",
     "output_type": "stream",
     "text": [
      "{1: 1, 2: 2, 3: 3, 4: 4}\n"
     ]
    }
   ],
   "source": [
    "## Practical Examples\n",
    "\n",
    "## USe a dictionary to count he frequency of elements in list\n",
    "\n",
    "numbers=[1,2,2,3,3,3,4,4,4,4]\n",
    "frequency={}\n",
    "\n",
    "for number in numbers:\n",
    "    if number in frequency:\n",
    "        frequency[number]+=1\n",
    "    else:\n",
    "        frequency[number]=1\n",
    "print(frequency)"
   ]
  },
  {
   "cell_type": "code",
   "execution_count": null,
   "id": "605af4ea",
   "metadata": {},
   "outputs": [],
   "source": [
    "## Merge 2 dictionaries into one\n",
    "\n",
    "dict1={\"a\":1,\"b\":2}\n",
    "dict2={\"b\":3,\"c\":4}\n",
    "merged_dict={**dict1,**dict2}\n",
    "print(merged_dict)"
   ]
  }
 ],
 "metadata": {
  "kernelspec": {
   "display_name": "Python 3",
   "language": "python",
   "name": "python3"
  },
  "language_info": {
   "codemirror_mode": {
    "name": "ipython",
    "version": 3
   },
   "file_extension": ".py",
   "mimetype": "text/x-python",
   "name": "python",
   "nbconvert_exporter": "python",
   "pygments_lexer": "ipython3",
   "version": "3.12.0"
  }
 },
 "nbformat": 4,
 "nbformat_minor": 5
}
