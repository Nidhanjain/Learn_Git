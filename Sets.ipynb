{
 "cells": [
  {
   "cell_type": "markdown",
   "id": "ee322e9c",
   "metadata": {},
   "source": [
    "Sets\n",
    "\n",
    "Sets are a built-in data type in Python used to store collections of unique items. They are unordered, meaning that the elements do not follow a specific order, and they do not allow duplicate elements. Sets are useful for membership tests, eliminating duplicate entries, and performing mathematical set operations like union, intersection, difference, and symmetric difference."
   ]
  },
  {
   "cell_type": "markdown",
   "id": "72ee7bfc",
   "metadata": {},
   "source": []
  },
  {
   "cell_type": "code",
   "execution_count": 40,
   "id": "984ffac6",
   "metadata": {},
   "outputs": [
    {
     "name": "stdout",
     "output_type": "stream",
     "text": [
      "<class 'set'>\n",
      "<class 'dict'>\n"
     ]
    }
   ],
   "source": [
    "myset = {1,2,3,4,5}\n",
    "print(type(myset))\n",
    "ds = {}\n",
    "print(type(ds))"
   ]
  },
  {
   "cell_type": "code",
   "execution_count": 3,
   "id": "473f0f11",
   "metadata": {},
   "outputs": [
    {
     "name": "stdout",
     "output_type": "stream",
     "text": [
      "{1, 2, 3, 4, 5}\n",
      "{1, 2, 3, 4, 5, 6}\n"
     ]
    }
   ],
   "source": [
    "newset = set([1,2,3,4,5])\n",
    "print(newset)\n",
    "\n",
    "# do not allow duplicate elements\n",
    "newsets = set([1,2,3,3,4,5,4,5,6,6])\n",
    "print(newsets)\n"
   ]
  },
  {
   "cell_type": "code",
   "execution_count": null,
   "id": "2b4b3b00",
   "metadata": {},
   "outputs": [
    {
     "name": "stdout",
     "output_type": "stream",
     "text": [
      "{2, 3, 4, 5, 6}\n",
      "{2, 3, 4, 5}\n",
      "2\n",
      "{3, 4, 5}\n",
      "3\n"
     ]
    }
   ],
   "source": [
    "#Basic set operations\n",
    "#adding or removing\n",
    "#poping\n",
    "newset.add(6)\n",
    "print(newset)\n",
    "newset.remove(6)\n",
    "print(newset)\n",
    "removed = newset.pop()\n",
    "print(removed)\n",
    "print(newset)\n",
    "\n"
   ]
  },
  {
   "cell_type": "code",
   "execution_count": 13,
   "id": "170bd4b7",
   "metadata": {},
   "outputs": [
    {
     "name": "stdout",
     "output_type": "stream",
     "text": [
      "True\n",
      "False\n",
      "True\n"
     ]
    }
   ],
   "source": [
    "# Set Membership test\n",
    "\n",
    "my_set={1,2,3,4,5}\n",
    "print(3 in my_set)\n",
    "print(10 in my_set)\n",
    "print(4 in my_set)"
   ]
  },
  {
   "cell_type": "code",
   "execution_count": 27,
   "id": "feb7af83",
   "metadata": {},
   "outputs": [
    {
     "name": "stdout",
     "output_type": "stream",
     "text": [
      "{1, 2, 3, 4, 5, 6, 7, 8, 9}\n",
      "{4, 5, 6, 7, 8, 9}\n",
      "False\n",
      "True\n"
     ]
    }
   ],
   "source": [
    "## MAthematical Operation\n",
    "set1={1,2,3,4,5,6,7,8,9}\n",
    "set2={4,5,6,7,8,9}\n",
    "\n",
    "### Union\n",
    "union_set=set1.union(set2)\n",
    "print(union_set)\n",
    "\n",
    "## Intersection\n",
    "intersection_set=set1.intersection(set2)\n",
    "print(intersection_set)\n",
    "\n",
    "# set1.intersection_update(set2)\n",
    "# print(set1)\n",
    "\n",
    "set1.difference(set2)\n",
    "print(set1.issubset(set2))\n",
    "print(set1.issuperset(set2))\n",
    "\n",
    "\n",
    "# Mann = {\"cricket\"  , \"dukaan\" }\n",
    "# manthan = {\"cricket\" , \"medical\"}\n",
    "# union = Mann.union(manthan)\n",
    "# print(union)\n",
    "# Mann.intersection_update(manthan)\n",
    "# print(Mann)\n",
    "\n",
    "# print(Mann.difference(manthan))\n",
    "\n",
    "# # Symmetric difference\n",
    "\n",
    "# Mann.symmetric_difference(manthan)\n"
   ]
  },
  {
   "cell_type": "code",
   "execution_count": 28,
   "id": "8c4a796f",
   "metadata": {},
   "outputs": [
    {
     "name": "stdout",
     "output_type": "stream",
     "text": [
      "{'this', 'are', 'we', 'tutorial', 'discussing', 'sets', 'about', 'In'}\n",
      "8\n"
     ]
    }
   ],
   "source": [
    "### Counting Unique words in text\n",
    "\n",
    "text=\"In this tutorial we are discussing about sets\"\n",
    "words=text.split()\n",
    "\n",
    "## convert list of words to set to get unique words\n",
    "\n",
    "unique_words=set(words)\n",
    "print(unique_words)\n",
    "print(len(unique_words))"
   ]
  },
  {
   "cell_type": "code",
   "execution_count": 38,
   "id": "615309be",
   "metadata": {},
   "outputs": [
    {
     "name": "stdout",
     "output_type": "stream",
     "text": [
      "{1, 2, 3, 4, 5, 6, 7, 8, 9, 10}\n",
      "{64, 1, 512, 8, 1000, 343, 216, 729, 27, 125}\n",
      "{2, 4, 6, 8, 10}\n"
     ]
    }
   ],
   "source": [
    "sets = set(range(1,11))\n",
    "print(sets)\n",
    "set1= set(x **3 for x in range (1,11))\n",
    "print(set1)\n",
    "set2 = set(range(2, 11, 2))\n",
    "print(set2)"
   ]
  }
 ],
 "metadata": {
  "kernelspec": {
   "display_name": "Python 3",
   "language": "python",
   "name": "python3"
  },
  "language_info": {
   "codemirror_mode": {
    "name": "ipython",
    "version": 3
   },
   "file_extension": ".py",
   "mimetype": "text/x-python",
   "name": "python",
   "nbconvert_exporter": "python",
   "pygments_lexer": "ipython3",
   "version": "3.12.0"
  }
 },
 "nbformat": 4,
 "nbformat_minor": 5
}
