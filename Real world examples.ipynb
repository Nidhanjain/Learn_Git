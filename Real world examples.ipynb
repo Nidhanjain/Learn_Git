{
 "cells": [
  {
   "cell_type": "markdown",
   "id": "25600158",
   "metadata": {},
   "source": [
    "To make a to-do list "
   ]
  },
  {
   "cell_type": "markdown",
   "id": "780385d3",
   "metadata": {},
   "source": []
  },
  {
   "cell_type": "code",
   "execution_count": 1,
   "id": "74a41536",
   "metadata": {},
   "outputs": [
    {
     "name": "stdout",
     "output_type": "stream",
     "text": [
      "pay electricity bill\n",
      "to do list remaining\n",
      "buy Groceries\n",
      "drop kids to school \n",
      "GO to office\n",
      "pay bills\n",
      "visit bank\n"
     ]
    }
   ],
   "source": [
    "todo_list = [\"buy Groceries\" , \"drop kids to school \" , \"GO to office\" ]\n",
    "\n",
    "# adding the task \n",
    "\n",
    "todo_list.append(\"pay bills\")\n",
    "todo_list.append(\"visit bank\")\n",
    "\n",
    "if \"pay bills\" in todo_list:\n",
    "    print(\"pay electricity bill\")\n",
    "\n",
    "print(\"to do list remaining\")\n",
    "for task in todo_list:\n",
    "    print(task)"
   ]
  },
  {
   "cell_type": "code",
   "execution_count": null,
   "id": "09a577af",
   "metadata": {},
   "outputs": [],
   "source": [
    "# Organizing student grades\n",
    "grades = [85, 92, 78, 90, 88]\n",
    "\n",
    "# Adding a new grade\n",
    "grades.append(95)\n",
    "\n",
    "# Calculating the average grade\n",
    "average_grade = sum(grades) / len(grades)\n",
    "print(f\"Average Grade: {average_grade:.2f}\")\n",
    "\n",
    "# Finding the highest and lowest grades\n",
    "highest_grade = max(grades)\n",
    "lowest_grade = min(grades)\n",
    "print(f\"Highest Grade: {highest_grade}\")\n",
    "print(f\"Lowest Grade: {lowest_grade}\")"
   ]
  },
  {
   "cell_type": "code",
   "execution_count": 3,
   "id": "5b14c30e",
   "metadata": {},
   "outputs": [
    {
     "name": "stdout",
     "output_type": "stream",
     "text": [
      "Positive Feedback Count: 3\n",
      "User Feedback:\n",
      "- Great service!\n",
      "- Very satisfied\n",
      "- Could be better\n",
      "- Excellent experience\n",
      "- good\n",
      "- Not happy with the service\n"
     ]
    }
   ],
   "source": [
    "# user feedback\n",
    "\n",
    "# Collecting user feedback\n",
    "feedback = [\"Great service!\", \"Very satisfied\", \"Could be better\", \"Excellent experience\" , \"good\" ]\n",
    "\n",
    "# Adding new feedback\n",
    "feedback.append(\"Not happy with the service\")\n",
    "\n",
    "# Counting specific feedback\n",
    "positive_feedback_count = sum(1 for comment in feedback if \"great\" in comment.lower() or \"excellent\" in comment.lower() or \"good\" in comment.lower())\n",
    "print(f\"Positive Feedback Count: {positive_feedback_count}\")\n",
    "\n",
    "# Printing all feedback\n",
    "print(\"User Feedback:\")\n",
    "for comment in feedback:\n",
    "    print(f\"- {comment}\")"
   ]
  }
 ],
 "metadata": {
  "kernelspec": {
   "display_name": "Python 3",
   "language": "python",
   "name": "python3"
  },
  "language_info": {
   "codemirror_mode": {
    "name": "ipython",
    "version": 3
   },
   "file_extension": ".py",
   "mimetype": "text/x-python",
   "name": "python",
   "nbconvert_exporter": "python",
   "pygments_lexer": "ipython3",
   "version": "3.12.0"
  }
 },
 "nbformat": 4,
 "nbformat_minor": 5
}
